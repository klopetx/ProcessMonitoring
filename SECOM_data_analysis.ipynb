{
  "nbformat": 4,
  "nbformat_minor": 0,
  "metadata": {
    "colab": {
      "provenance": [],
      "authorship_tag": "ABX9TyP53VR6k7u7KfD+HuLj6RMb",
      "include_colab_link": true
    },
    "kernelspec": {
      "name": "python3",
      "display_name": "Python 3"
    },
    "language_info": {
      "name": "python"
    }
  },
  "cells": [
    {
      "cell_type": "markdown",
      "metadata": {
        "id": "view-in-github",
        "colab_type": "text"
      },
      "source": [
        "<a href=\"https://colab.research.google.com/github/klopetx/ProcessMonitoring/blob/develop/SECOM_data_analysis.ipynb\" target=\"_parent\"><img src=\"https://colab.research.google.com/assets/colab-badge.svg\" alt=\"Open In Colab\"/></a>"
      ]
    },
    {
      "cell_type": "markdown",
      "source": [
        "**SECOM DATASET**\n",
        "\n",
        "We will analize the dataset provided by SECOM.\n",
        "\n",
        "This dataset can be found at the [UCI data repository](https://archive.ics.uci.edu/dataset/179/secom).\n",
        "\n",
        "Needless to say, we will start by thanking the authors of the dataset who published the data they used in one of their research works:\n",
        "\n",
        "\n",
        "\n",
        "McCann,Michael and Johnston,Adrian. (2008). SECOM. UCI Machine Learning Repository. https://doi.org/10.24432/C54305."
      ],
      "metadata": {
        "id": "-7i720baE3eB"
      }
    },
    {
      "cell_type": "markdown",
      "source": [],
      "metadata": {
        "id": "49mhYdK9E7BQ"
      }
    },
    {
      "cell_type": "markdown",
      "source": [
        "# Data downloading\n",
        "\n",
        "we wil proceed to download the data:\n",
        "\n"
      ],
      "metadata": {
        "id": "C5U_9MaVGXtq"
      }
    },
    {
      "cell_type": "code",
      "source": [
        "import requests\n",
        "\n",
        "data_path = 'https://archive.ics.uci.edu/static/public/179/secom.zip'\n",
        "\n",
        "response = requests.get(data_path)\n",
        "\n",
        "with open(\"secom.zip\", \"wb\") as file:\n",
        "    file.write(response.content)"
      ],
      "metadata": {
        "id": "3t8H84tzGcsH"
      },
      "execution_count": 3,
      "outputs": []
    },
    {
      "cell_type": "code",
      "source": [
        "import zipfile\n",
        "\n",
        "with zipfile.ZipFile(\"secom.zip\", \"r\") as zip_ref:\n",
        "    zip_ref.extractall(\".\")"
      ],
      "metadata": {
        "id": "XwcFkZhxG5n-"
      },
      "execution_count": 6,
      "outputs": []
    },
    {
      "cell_type": "markdown",
      "source": [],
      "metadata": {
        "id": "mr7uPtllE7mt"
      }
    },
    {
      "cell_type": "code",
      "source": [
        "import pandas as pd\n",
        "\n",
        "features = pd.read_csv(\"secom.data\", sep=\" \", header=None)\n",
        "print(features.head())\n",
        "\n",
        "labels = pd.read_csv(\"secom_labels.data\", sep= \" \", header=None)\n",
        "print(labels.head())"
      ],
      "metadata": {
        "colab": {
          "base_uri": "https://localhost:8080/"
        },
        "id": "FVTHyYe_Hdif",
        "outputId": "422ccde7-4f88-4ff2-f929-44df7e1736dc"
      },
      "execution_count": 9,
      "outputs": [
        {
          "output_type": "stream",
          "name": "stdout",
          "text": [
            "       0        1          2          3       4      5         6       7    \\\n",
            "0  3030.93  2564.00  2187.7333  1411.1265  1.3602  100.0   97.6133  0.1242   \n",
            "1  3095.78  2465.14  2230.4222  1463.6606  0.8294  100.0  102.3433  0.1247   \n",
            "2  2932.61  2559.94  2186.4111  1698.0172  1.5102  100.0   95.4878  0.1241   \n",
            "3  2988.72  2479.90  2199.0333   909.7926  1.3204  100.0  104.2367  0.1217   \n",
            "4  3032.24  2502.87  2233.3667  1326.5200  1.5334  100.0  100.3967  0.1235   \n",
            "\n",
            "      8       9    ...     580       581     582     583     584      585  \\\n",
            "0  1.5005  0.0162  ...     NaN       NaN  0.5005  0.0118  0.0035   2.3630   \n",
            "1  1.4966 -0.0005  ...  0.0060  208.2045  0.5019  0.0223  0.0055   4.4447   \n",
            "2  1.4436  0.0041  ...  0.0148   82.8602  0.4958  0.0157  0.0039   3.1745   \n",
            "3  1.4882 -0.0124  ...  0.0044   73.8432  0.4990  0.0103  0.0025   2.0544   \n",
            "4  1.5031 -0.0031  ...     NaN       NaN  0.4800  0.4766  0.1045  99.3032   \n",
            "\n",
            "      586     587     588       589  \n",
            "0     NaN     NaN     NaN       NaN  \n",
            "1  0.0096  0.0201  0.0060  208.2045  \n",
            "2  0.0584  0.0484  0.0148   82.8602  \n",
            "3  0.0202  0.0149  0.0044   73.8432  \n",
            "4  0.0202  0.0149  0.0044   73.8432  \n",
            "\n",
            "[5 rows x 590 columns]\n",
            "   0                    1\n",
            "0 -1  19/07/2008 11:55:00\n",
            "1 -1  19/07/2008 12:32:00\n",
            "2  1  19/07/2008 13:17:00\n",
            "3 -1  19/07/2008 14:43:00\n",
            "4 -1  19/07/2008 15:22:00\n"
          ]
        }
      ]
    },
    {
      "cell_type": "code",
      "source": [
        "print(features.shape)\n",
        "print(labels.shape)\n",
        "\n"
      ],
      "metadata": {
        "colab": {
          "base_uri": "https://localhost:8080/"
        },
        "id": "wF26gz51IUwK",
        "outputId": "55dc639d-e070-4185-9705-9d829c8b1488"
      },
      "execution_count": 11,
      "outputs": [
        {
          "output_type": "stream",
          "name": "stdout",
          "text": [
            "(1567, 590)\n",
            "(1567, 2)\n"
          ]
        }
      ]
    }
  ]
}